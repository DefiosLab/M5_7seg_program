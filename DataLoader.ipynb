{
  "nbformat": 4,
  "nbformat_minor": 0,
  "metadata": {
    "colab": {
      "provenance": []
    },
    "kernelspec": {
      "name": "python3",
      "display_name": "Python 3"
    },
    "language_info": {
      "name": "python"
    },
    "accelerator": "GPU",
    "gpuClass": "standard"
  },
  "cells": [
    {
      "cell_type": "markdown",
      "source": [
        "# Import data"
      ],
      "metadata": {
        "id": "Ncg5JaY77yk3"
      }
    },
    {
      "cell_type": "code",
      "source": [
        "import torch\n",
        "from torchvision.datasets import MNIST\n",
        "from torchvision import transforms\n",
        "from torch.utils.data import DataLoader\n",
        "\n",
        "#get train data\n",
        "mnist_train = MNIST(\"./data\",\n",
        "                    train = True,download=True,\n",
        "                    transform=transforms.ToTensor())\n",
        "\n",
        "mnist_test = MNIST(\"./data\",\n",
        "                   train = False, download = True,\n",
        "                   transform = transforms.ToTensor())\n",
        "print(\"num of train data : \" , len(mnist_train),\"num of testdata\",len(mnist_train))\n",
        "\n",
        "#setup the DataLoader\n",
        "img_size = 28\n",
        "batch_size = 256\n",
        "train_loader = DataLoader(mnist_train,\n",
        "                          batch_size=batch_size,\n",
        "                          shuffle=False)\n",
        "test_loader = DataLoader(mnist_train,\n",
        "                         batch_size=batch_size,\n",
        "                         shuffle=False)\n"
      ],
      "metadata": {
        "id": "2Xwrk7r-71tg",
        "colab": {
          "base_uri": "https://localhost:8080/"
        },
        "outputId": "277bb556-147b-4abd-c28b-e28bd5e7cea5"
      },
      "execution_count": 7,
      "outputs": [
        {
          "output_type": "stream",
          "name": "stdout",
          "text": [
            "num of train data :  60000 num of testdata 60000\n"
          ]
        }
      ]
    },
    {
      "cell_type": "markdown",
      "source": [
        "# Construct the model\n"
      ],
      "metadata": {
        "id": "ydX-EbXOe8Xn"
      }
    },
    {
      "cell_type": "markdown",
      "source": [
        "Inheritance the nn.Module and construct the model"
      ],
      "metadata": {
        "id": "DcOpFiByho2Z"
      }
    },
    {
      "cell_type": "code",
      "source": [
        "import torch.nn as nn\n",
        "import torch.nn.functional as F\n",
        "\n",
        "class Net(nn.Module):\n",
        "    def __init__(self):\n",
        "        super().__init__()\n",
        "        self.fc1 = nn.Linear(img_size*img_size, 1024)  # 全結合層\n",
        "        self.fc2 = nn.Linear(1024, 512)\n",
        "        self.fc3 = nn.Linear(512, 10)\n",
        "\n",
        "    def forward(self, x):\n",
        "        x = x.view(-1, img_size*img_size)  # バッチサイズ×入力の数\n",
        "        x = F.relu(self.fc1(x))\n",
        "        x = F.relu(self.fc2(x))\n",
        "        x = self.fc3(x)\n",
        "        return x\n",
        "\n",
        "net = Net()\n",
        "net.cuda()  # GPU対応\n",
        "print(net)"
      ],
      "metadata": {
        "id": "Ns4XnGWIfBGf",
        "colab": {
          "base_uri": "https://localhost:8080/"
        },
        "outputId": "b040c931-7e0c-45f4-8200-55668f29f409"
      },
      "execution_count": 8,
      "outputs": [
        {
          "output_type": "stream",
          "name": "stdout",
          "text": [
            "Net(\n",
            "  (fc1): Linear(in_features=784, out_features=1024, bias=True)\n",
            "  (fc2): Linear(in_features=1024, out_features=512, bias=True)\n",
            "  (fc3): Linear(in_features=512, out_features=10, bias=True)\n",
            ")\n"
          ]
        }
      ]
    },
    {
      "cell_type": "markdown",
      "source": [
        "# Learning"
      ],
      "metadata": {
        "id": "qpuAJtjOU2Fn"
      }
    },
    {
      "cell_type": "markdown",
      "source": [
        "learning the model. Take out the minibatch to train and evaluate the model by using DataLoader. Training the data by using alot of minibatch in 1 epoc. "
      ],
      "metadata": {
        "id": "omsj8ar6U-XX"
      }
    },
    {
      "cell_type": "code",
      "source": [
        "from torch import optim\n",
        "\n",
        "#公差エントロピー誤差関数\n",
        "loss_fnc = nn.CrossEntropyLoss()\n",
        "\n",
        "#SGD\n",
        "optimizer = optim.SGD(net.parameters(),lr=0.01)\n",
        "\n",
        "#損失のログ\n",
        "record_loss_train = []\n",
        "record_loss_test = []\n",
        "\n",
        "#Learning\n",
        "for i in range(10):\n",
        "  net.train() #train mode\n",
        "  loss_train = 0\n",
        "  for j,(x,t) in enumerate(train_loader): # Take out the minibatch(x,t)\n",
        "    x,t = x.cuda(),t.cuda()\n",
        "    y = net(x)\n",
        "    loss = loss_fnc(y,t)\n",
        "    loss_train += loss.item()\n",
        "    optimizer.zero_grad()\n",
        "    loss.backward()\n",
        "    optimizer.step()\n",
        "  loss_train /=j+1\n",
        "  record_loss_train.append(loss_train)\n",
        "\n",
        "  net.eval()\n",
        "  loss_test = 0\n",
        "  for j, (x,t) in enumerate(test_loader):\n",
        "    x,t = x.cuda(),t.cuda()\n",
        "    y = net(x)\n",
        "    loss = loss_fnc(y,t)\n",
        "    loss_test += loss.item()\n",
        "  loss_test /= j+1\n",
        "  record_loss_test.append(loss_test)\n",
        "\n",
        "  if i%1 == 0:\n",
        "    print(\"Epoch :\", i , \"loss_Train:\" , loss_train, \"Loss_train :\", loss_train)"
      ],
      "metadata": {
        "id": "YdYL2RV7Y1bB",
        "colab": {
          "base_uri": "https://localhost:8080/"
        },
        "outputId": "1103df9b-0363-4b1b-8b8b-7c1db085c64c"
      },
      "execution_count": 9,
      "outputs": [
        {
          "output_type": "stream",
          "name": "stdout",
          "text": [
            "Epoch : 0 loss_Train: 2.2274213040128665 Loss_train : 2.2274213040128665\n",
            "Epoch : 1 loss_Train: 1.871822280579425 Loss_train : 1.871822280579425\n",
            "Epoch : 2 loss_Train: 1.1771069653490756 Loss_train : 1.1771069653490756\n",
            "Epoch : 3 loss_Train: 0.7548151462636096 Loss_train : 0.7548151462636096\n",
            "Epoch : 4 loss_Train: 0.5828077285847766 Loss_train : 0.5828077285847766\n",
            "Epoch : 5 loss_Train: 0.4958936078751341 Loss_train : 0.4958936078751341\n",
            "Epoch : 6 loss_Train: 0.44389847459945275 Loss_train : 0.44389847459945275\n",
            "Epoch : 7 loss_Train: 0.40947807653153195 Loss_train : 0.40947807653153195\n",
            "Epoch : 8 loss_Train: 0.38498341228733673 Loss_train : 0.38498341228733673\n",
            "Epoch : 9 loss_Train: 0.36649162696397053 Loss_train : 0.36649162696397053\n"
          ]
        }
      ]
    },
    {
      "cell_type": "markdown",
      "source": [
        "# Error trends\n"
      ],
      "metadata": {
        "id": "KqG8r_mxugJJ"
      }
    },
    {
      "cell_type": "markdown",
      "source": [
        "Plot the trends of error in the graph by training data and testing data"
      ],
      "metadata": {
        "id": "d7p0UVhOut77"
      }
    },
    {
      "cell_type": "code",
      "source": [
        "import matplotlib.pyplot as plt\n",
        "\n",
        "plt.plot(range(len(record_loss_train)), record_loss_train, label=\"Train\")\n",
        "plt.plot(range(len(record_loss_test)),record_loss_test, label = \"Test\")\n",
        "plt.legend()\n",
        "\n",
        "plt.xlabel(\"Epoch\")\n",
        "plt.ylabel(\"Error\")\n",
        "plt.show()"
      ],
      "metadata": {
        "colab": {
          "base_uri": "https://localhost:8080/",
          "height": 279
        },
        "id": "Tc0TCLGfvB4H",
        "outputId": "60fe7ab2-92fe-473c-cbdc-374359ed70d7"
      },
      "execution_count": 11,
      "outputs": [
        {
          "output_type": "display_data",
          "data": {
            "text/plain": [
              "<Figure size 432x288 with 1 Axes>"
            ],
            "image/png": "[encoded data removed]"
          },
          "metadata": {
            "needs_background": "light"
          }
        }
      ]
    },
    {
      "cell_type": "markdown",
      "source": [
        "# Correct rate"
      ],
      "metadata": {
        "id": "l7LvwMNXv9UF"
      }
    },
    {
      "cell_type": "markdown",
      "source": [
        "Calculate the correct rate using test data to understand the performance of the model"
      ],
      "metadata": {
        "id": "3ZfGJxz8wAKx"
      }
    },
    {
      "cell_type": "code",
      "source": [
        "correct = 0\n",
        "total = 0\n",
        "for i, (x,t) in enumerate(test_loader):\n",
        "  x,t = x.cuda(),t.cuda() # support GPU\n",
        "  x = x.view(-1,img_size*img_size)\n",
        "  y = net(x)\n",
        "  correct += (y.argmax(1) == t).sum().item()\n",
        "  total += len(x)\n",
        "print(\"Correct rate: \", str(correct/total*100) + \"%\")"
      ],
      "metadata": {
        "colab": {
          "base_uri": "https://localhost:8080/"
        },
        "id": "jT1lSguCwit7",
        "outputId": "bb7f1669-9b92-4d3e-b9c3-6f8e76c7111f"
      },
      "execution_count": 12,
      "outputs": [
        {
          "output_type": "stream",
          "name": "stdout",
          "text": [
            "Correct rate:  89.91166666666666%\n"
          ]
        }
      ]
    }
  ]
}