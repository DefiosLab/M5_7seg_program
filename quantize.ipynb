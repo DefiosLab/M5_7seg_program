{
  "nbformat": 4,
  "nbformat_minor": 0,
  "metadata": {
    "colab": {
      "provenance": []
    },
    "kernelspec": {
      "name": "python3",
      "display_name": "Python 3"
    },
    "language_info": {
      "name": "python"
    }
  },
  "cells": [
    {
      "cell_type": "code",
      "execution_count": null,
      "metadata": {
        "id": "5nqe9tJ9OfuM"
      },
      "outputs": [],
      "source": [
        "import tensorflow as tf\n",
        "\n",
        "# settings\n",
        "output_model = \"model.tflite\"\n",
        "input_model = 'model.h5'\n",
        "\n",
        "keras_model = tf.keras.models.load_model(input_model)\n",
        "\n",
        "converter = tf.lite.TFLiteConverter.from_keras_model(keras_model)\n",
        "\n",
        "#ダイナミック量子化\n",
        "tflite_quant_model = converter.convert()\n",
        "\n",
        "#tfliteモデルの保存\n",
        "with open(output_model, 'wb') as o_:\n",
        "    o_.write(tflite_quant_model)"
      ]
    }
  ]
}