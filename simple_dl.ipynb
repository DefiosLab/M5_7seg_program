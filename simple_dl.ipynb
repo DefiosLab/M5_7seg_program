{
  "nbformat": 4,
  "nbformat_minor": 0,
  "metadata": {
    "colab": {
      "provenance": []
    },
    "kernelspec": {
      "name": "python3",
      "display_name": "Python 3"
    },
    "language_info": {
      "name": "python"
    }
  },
  "cells": [
    {
      "cell_type": "markdown",
      "source": [
        "# **Import data and split for training and testing**"
      ],
      "metadata": {
        "id": "HbC12z5uS6wh"
      }
    },
    {
      "cell_type": "markdown",
      "source": [
        "import image data of hand-write number from scikit-learn"
      ],
      "metadata": {
        "id": "Rh2FF3AfVLCI"
      }
    },
    {
      "cell_type": "code",
      "source": [
        "import numpy as np\n",
        "import matplotlib.pyplot as plt\n",
        "from sklearn import datasets\n",
        "import torch\n",
        "from sklearn.model_selection import train_test_split\n",
        "\n",
        "digits_data = datasets.load_digits()\n",
        "digit_images = digits_data.data\n",
        "labels = digits_data.target\n",
        "\n",
        "x_train, x_test, t_train, t_test = train_test_split(digit_images, labels) #25% for test\n",
        "\n",
        "# convert to tensor\n",
        "x_train = torch.tensor(x_train,dtype = torch.float32)\n",
        "t_train = torch.tensor(t_train,dtype = torch.int64)\n",
        "x_test = torch.tensor(x_train,dtype = torch.float32)\n",
        "t_test = torch.tensor(t_train,dtype = torch.int64)\n"
      ],
      "metadata": {
        "id": "1Lqow_WVS631",
        "colab": {
          "base_uri": "https://localhost:8080/"
        },
        "outputId": "2adc9351-99d7-4408-85bd-a9b51673b2ea"
      },
      "execution_count": 4,
      "outputs": [
        {
          "output_type": "stream",
          "name": "stderr",
          "text": [
            "<ipython-input-4-737c634afa22>:16: UserWarning: To copy construct from a tensor, it is recommended to use sourceTensor.clone().detach() or sourceTensor.clone().detach().requires_grad_(True), rather than torch.tensor(sourceTensor).\n",
            "  x_test = torch.tensor(x_train,dtype = torch.float32)\n",
            "<ipython-input-4-737c634afa22>:17: UserWarning: To copy construct from a tensor, it is recommended to use sourceTensor.clone().detach() or sourceTensor.clone().detach().requires_grad_(True), rather than torch.tensor(sourceTensor).\n",
            "  t_test = torch.tensor(t_train,dtype = torch.int64)\n"
          ]
        }
      ]
    },
    {
      "cell_type": "markdown",
      "source": [
        "# Construct the model"
      ],
      "metadata": {
        "id": "Y2_TTt_VVcWQ"
      }
    },
    {
      "cell_type": "markdown",
      "source": [
        "Construct the model by using sequential class of nn module"
      ],
      "metadata": {
        "id": "TTTM8_diYb7v"
      }
    },
    {
      "cell_type": "code",
      "source": [
        "from torch import nn\n",
        "\n",
        "net = nn.Sequential(\n",
        "    nn.Linear(64, 32),  # 全結合層\n",
        "    nn.ReLU(),          # ReLU\n",
        "    nn.Linear(32, 16),\n",
        "    nn.ReLU(),\n",
        "    nn.Linear(16, 10)\n",
        ")\n",
        "print(net)"
      ],
      "metadata": {
        "id": "ckeMoPnNVcb7",
        "colab": {
          "base_uri": "https://localhost:8080/"
        },
        "outputId": "9e9107a8-c78c-4328-d483-03b78a6e4d29"
      },
      "execution_count": 11,
      "outputs": [
        {
          "output_type": "stream",
          "name": "stdout",
          "text": [
            "Sequential(\n",
            "  (0): Linear(in_features=64, out_features=32, bias=True)\n",
            "  (1): ReLU()\n",
            "  (2): Linear(in_features=32, out_features=16, bias=True)\n",
            "  (3): ReLU()\n",
            "  (4): Linear(in_features=16, out_features=10, bias=True)\n",
            ")\n"
          ]
        }
      ]
    },
    {
      "cell_type": "markdown",
      "source": [
        "# Learning"
      ],
      "metadata": {
        "id": "ivvxLBn1ZPQf"
      }
    },
    {
      "cell_type": "markdown",
      "source": [
        "Learning the model.\n",
        "Setup the cross entropy error to the loss function, SGD to optimize Algoroth.\n",
        "Perform forward propagation to both train data and test data to calculate the loss. Perform back propagation to only train data"
      ],
      "metadata": {
        "id": "tm69ZOYkZTtQ"
      }
    },
    {
      "cell_type": "code",
      "source": [
        "from torch import optim\n",
        "\n",
        "#cross entropy error\n",
        "loss_fnc = nn.CrossEntropyLoss()\n",
        "\n",
        "#SGD\n",
        "optimizer = optim.SGD(net.parameters(), lr = 0.01) # lerning rate is 0.01\n",
        "\n",
        "# log of the loss\n",
        "record_loss_train = []\n",
        "record_loss_test = []\n",
        "\n",
        "#1000epocLearing\n",
        "for i in range(1000):\n",
        "\n",
        "  #set the gradient to 0\n",
        "  optimizer.zero_grad()\n",
        "\n",
        "  #forward propagation\n",
        "  y_train = net(x_train)\n",
        "  y_test = net(x_test)\n",
        "\n",
        "  #calculate the loss\n",
        "  loss_train = loss_fnc(y_train,t_train)\n",
        "  loss_test = loss_fnc(y_test,t_test)\n",
        "  record_loss_train.append(loss_train.item())\n",
        "  record_loss_test.append(loss_test.item())\n",
        "\n",
        "  #back propagation\n",
        "  loss_train.backward()\n",
        "\n",
        "  #update the parameter\n",
        "  optimizer.step()\n",
        "\n",
        "  if i%100 ==0:\n",
        "    print(\"Epoch:\",i,\"Loss_Train:\",loss_train.item(),\"Loss_Test:\",loss_test.item())\n",
        "\n"
      ],
      "metadata": {
        "id": "ZqWjgTvmZUIo",
        "colab": {
          "base_uri": "https://localhost:8080/"
        },
        "outputId": "9797638a-f610-45cb-b515-9271ac9f423f"
      },
      "execution_count": 13,
      "outputs": [
        {
          "output_type": "stream",
          "name": "stdout",
          "text": [
            "Epoch: 0 Loss_Train: 2.4659199714660645 Loss_Test: 2.4659199714660645\n",
            "Epoch: 100 Loss_Train: 0.8305469155311584 Loss_Test: 0.8305469155311584\n",
            "Epoch: 200 Loss_Train: 0.3072000741958618 Loss_Test: 0.3072000741958618\n",
            "Epoch: 300 Loss_Train: 0.19185179471969604 Loss_Test: 0.19185179471969604\n",
            "Epoch: 400 Loss_Train: 0.1428406536579132 Loss_Test: 0.1428406536579132\n",
            "Epoch: 500 Loss_Train: 0.11455249041318893 Loss_Test: 0.11455249041318893\n",
            "Epoch: 600 Loss_Train: 0.09570649266242981 Loss_Test: 0.09570649266242981\n",
            "Epoch: 700 Loss_Train: 0.08224854618310928 Loss_Test: 0.08224854618310928\n",
            "Epoch: 800 Loss_Train: 0.07189474254846573 Loss_Test: 0.07189474254846573\n",
            "Epoch: 900 Loss_Train: 0.06358563154935837 Loss_Test: 0.06358563154935837\n"
          ]
        }
      ]
    },
    {
      "cell_type": "markdown",
      "source": [
        "# Error trends"
      ],
      "metadata": {
        "id": "t-0AEdbgelaf"
      }
    },
    {
      "cell_type": "markdown",
      "source": [
        "plot the error trends"
      ],
      "metadata": {
        "id": "NWWRw3gwespo"
      }
    },
    {
      "cell_type": "code",
      "source": [
        "plt.plot(range(len(record_loss_train)), record_loss_train, label=\"Train\")\n",
        "plt.plot(range(len(record_loss_test)),record_loss_test, label = \"Test\")\n",
        "plt.legend()\n",
        "\n",
        "plt.xlabel(\"Epochs\")\n",
        "plt.ylabel(\"Error\")\n",
        "plt.show()"
      ],
      "metadata": {
        "id": "7EpKPW1feyOZ",
        "colab": {
          "base_uri": "https://localhost:8080/",
          "height": 279
        },
        "outputId": "c3a7df65-24ad-480b-eb9a-338055aa58a3"
      },
      "execution_count": 14,
      "outputs": [
        {
          "output_type": "display_data",
          "data": {
            "text/plain": [
              "<Figure size 432x288 with 1 Axes>"
            ],
            "image/png": "[encoded data removed]"
          },
          "metadata": {
            "needs_background": "light"
          }
        }
      ]
    },
    {
      "cell_type": "markdown",
      "source": [
        "# correct rate"
      ],
      "metadata": {
        "id": "S21nzvbcfphC"
      }
    },
    {
      "cell_type": "markdown",
      "source": [
        "For understanding the performance of the model, using test data to measure the correct rate"
      ],
      "metadata": {
        "id": "ND_14AnJfsb-"
      }
    },
    {
      "cell_type": "code",
      "source": [
        "y_test = net(x_test)\n",
        "count = (y_test.argmax(1) == t_test).sum().item()\n",
        "print(\"Correct rate :\", str(count/len(y_test)*100) + \"%\")"
      ],
      "metadata": {
        "id": "T4HO1QXogV3z",
        "colab": {
          "base_uri": "https://localhost:8080/"
        },
        "outputId": "f18c7b31-baa5-4801-cf26-f2d91b627d5b"
      },
      "execution_count": 15,
      "outputs": [
        {
          "output_type": "stream",
          "name": "stdout",
          "text": [
            "Correct rate : 98.88641425389754%\n"
          ]
        }
      ]
    },
    {
      "cell_type": "markdown",
      "source": [
        "# Prediction using learned model"
      ],
      "metadata": {
        "id": "elyOFLtyg2lD"
      }
    },
    {
      "cell_type": "markdown",
      "source": [
        "import the image to check whether the model is working or not"
      ],
      "metadata": {
        "id": "vearEss3hD09"
      }
    },
    {
      "cell_type": "code",
      "source": [
        "img_id = 0\n",
        "x_pred = digit_images[img_id]\n",
        "image = x_pred.reshape(8,8)\n",
        "plt.imshow(image,cmap=\"Greys_r\")\n",
        "plt.show()\n",
        "\n",
        "x_pred = torch.tensor(x_pred, dtype=torch.float32)\n",
        "y_pred = net(x_pred)\n",
        "print(\"Correct :\" , labels[img_id],\"Prediction:\",y_pred.argmax().item())"
      ],
      "metadata": {
        "id": "Zw3OmyeWh7Qr",
        "colab": {
          "base_uri": "https://localhost:8080/",
          "height": 283
        },
        "outputId": "f1eb7bae-eeed-47ab-d635-0c1fd0f4091c"
      },
      "execution_count": 16,
      "outputs": [
        {
          "output_type": "display_data",
          "data": {
            "text/plain": [
              "<Figure size 432x288 with 1 Axes>"
            ],
            "image/png": "[encoded data removed]"
          },
          "metadata": {
            "needs_background": "light"
          }
        },
        {
          "output_type": "stream",
          "name": "stdout",
          "text": [
            "Correct : 0 Prediction: 0\n"
          ]
        }
      ]
    }
  ]
}