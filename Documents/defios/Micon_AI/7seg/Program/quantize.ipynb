{
  "nbformat": 4,
  "nbformat_minor": 0,
  "metadata": {
    "colab": {
      "provenance": []
    },
    "kernelspec": {
      "name": "python3",
      "display_name": "Python 3"
    },
    "language_info": {
      "name": "python"
    }
  },
  "cells": [
    {
      "cell_type": "code",
      "source": [
        "import numpy as np\n",
        "import sys\n",
        "import cv2\n",
        "\n",
        "import tensorflow as tf\n",
        "\n",
        "# settings\n",
        "output_model = \"7seg.tflite\"\n",
        "input_model = '7seg.h5'\n",
        "# load validation set\n",
        "import glob\n",
        "\n",
        "image_folder = \"calib_img\"\n",
        "img_path = glob.glob(image_folder+\"/*.png\")\n",
        "if len(img_path)==0:\n",
        "    print(\"image not found\")\n",
        "    # sys.exit(1)\n",
        "\n",
        "validation_data_set=[]\n",
        "for file_name in img_path:\n",
        "    img = cv2.imread(file_name) #BGR\n",
        "    img = cv2.resize(img,(28, 28))\n",
        "    img = cv2.cvtColor(img, cv2.COLOR_BGR2GRAY)\n",
        "    img = img/255.0\n",
        "    # img = np.asarray(img)\n",
        "    img = np.asarray(img, dtype=np.float32)\n",
        "    img = np.expand_dims(img, axis=0)\n",
        "    img = np.expand_dims(img, axis=3)\n",
        "\n",
        "    # mean = np.asarray([103.939, 116.779, 123.68], dtype=np.float32)\n",
        "    # ary = ary - mean\n",
        "    # ary = np.minimum(ary,127)\n",
        "    # ary = np.maximum(ary,-128)\n",
        "    #print(ary.shape)\n",
        "    validation_data_set.append(img)\n",
        "# validation_data_set = validation_data_set.astype(np.uint8)\n",
        "# validation_data_set = [np.uint8(item) for item in validation_data_set]\n",
        "\n",
        "#quantize\n",
        "def representative_dataset_gen():\n",
        "  for i in range(len(validation_data_set)):\n",
        "    yield [validation_data_set[i]]\n",
        "\n",
        "# def representative_dataset_gen():\n",
        "#    for i in range(len(validation_data_set)):\n",
        "#       input_image = tf.cast(validation_data_set[i], tf.float32)\n",
        "#       input_image = tf.reshape(input_image, [1,28,28,1])\n",
        "#       yield ([input_image])\n",
        "      # yield {\"image\":input_image}\n",
        "\n",
        "keras_model = tf.keras.models.load_model(input_model)\n",
        "\n",
        "converter = tf.lite.TFLiteConverter.from_keras_model(keras_model)\n",
        "# converter = tf.lite.TFLiteConverter.from_saved_model(input_model)\n",
        "\n",
        "#ダイナミック\n",
        "tflite_quant_model = converter.convert()\n",
        "\n",
        "#ダイナミック&最適化\n",
        "# converter.optimizations = [tf.lite.Optimize.DEFAULT]\n",
        "# tflite_quant_model = converter.convert()\n",
        "\n",
        "#完全な整数\n",
        "# converter.optimizations = [tf.lite.Optimize.DEFAULT]\n",
        "# converter.representative_dataset = representative_dataset_gen\n",
        "# converter.target_spec.supported_ops = [tf.lite.OpsSet.TFLITE_BUILTINS_INT8]\n",
        "# converter.inference_input_type = tf.int8\n",
        "# converter.inference_output_type = tf.int8\n",
        "# tflite_quant_model = converter.convert()\n",
        "\n",
        "#完全な整数量子化\n",
        "# converter.experimental_new_converter = True   #<--- Tensorflow v2.2.x以降を使用している場合は不要\n",
        "# converter.optimizations = [tf.lite.Optimize.DEFAULT]\n",
        "## converter.target_spec.supported_ops = [tf.lite.OpsSet.TFLITE_BUILTINS_INT8]\n",
        "# converter.inference_input_type = tf.uint8\n",
        "# converter.inference_output_type = tf.uint8\n",
        "# converter.representative_dataset = representative_dataset_gen\n",
        "# tflite_quant_model = converter.convert()\n",
        "\n",
        "with open(output_model, 'wb') as o_:\n",
        "    o_.write(tflite_quant_model)"
      ],
      "metadata": {
        "id": "0gRjigDOzfc-",
        "colab": {
          "base_uri": "https://localhost:8080/"
        },
        "outputId": "1bdd6fcd-6d1b-4212-d90b-f47724bde9bc"
      },
      "execution_count": null,
      "outputs": [
        {
          "output_type": "stream",
          "name": "stdout",
          "text": [
            "image not found\n"
          ]
        }
      ]
    }
  ]
}